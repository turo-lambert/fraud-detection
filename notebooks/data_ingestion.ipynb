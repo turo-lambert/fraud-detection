{
 "cells": [
  {
   "cell_type": "code",
   "execution_count": null,
   "metadata": {},
   "outputs": [],
   "source": [
    "import sys\n",
    "sys.path.append('../')\n",
    "\n",
    "import pandas as pd\n",
    "\n",
    "from pathlib import Path\n",
    "\n",
    "from lib.data_processing import FeatureEngineer\n",
    "from lib.load_config import BaseConfig"
   ]
  },
  {
   "cell_type": "code",
   "execution_count": null,
   "metadata": {},
   "outputs": [],
   "source": [
    "ROOT_DIR = Path().cwd().parent\n",
    "DATA_DIR = ROOT_DIR / 'data'"
   ]
  },
  {
   "cell_type": "code",
   "execution_count": null,
   "metadata": {},
   "outputs": [],
   "source": [
    "config = BaseConfig.load_config(ROOT_DIR / 'config' / 'config.yaml')\n",
    "fraud_cases = pd.read_csv(DATA_DIR / 'fraud_cases.csv')\n",
    "claim_history_train = pd.read_csv(DATA_DIR / 'FRISS_ClaimHistory_training.csv')"
   ]
  },
  {
   "cell_type": "code",
   "execution_count": null,
   "metadata": {},
   "outputs": [],
   "source": [
    "claim_history_train[\"claim_id_mapping\"] = claim_history_train[\"sys_claimid\"].astype(str).apply(lambda x: x.split(\"-\")[1])"
   ]
  },
  {
   "cell_type": "code",
   "execution_count": null,
   "metadata": {},
   "outputs": [],
   "source": [
    "def match_fraud_cases(training_data: pd.DataFrame, fraud_cases: pd.DataFrame) -> pd.DataFrame:\n",
    "    \"\"\"Match fraud cases to training data\n",
    "    \n",
    "    Args:\n",
    "        training_data: pd.DataFrame\n",
    "        fraud_cases: pd.DataFrame\n",
    "    \n",
    "    Returns:\n",
    "        training_data: pd.DataFrame\n",
    "    \"\"\"\n",
    "    training_data['fraud_label'] = training_data['claim_id_mapping'].astype(str).isin(fraud_cases['ClaimID'].astype(str).to_numpy()).astype(int)\n",
    "    return training_data"
   ]
  },
  {
   "cell_type": "code",
   "execution_count": null,
   "metadata": {},
   "outputs": [],
   "source": [
    "claim_history_train = match_fraud_cases(claim_history_train, fraud_cases)"
   ]
  },
  {
   "cell_type": "code",
   "execution_count": null,
   "metadata": {},
   "outputs": [],
   "source": [
    "fe = FeatureEngineer(\n",
    "    cols_to_drop=config.preprocessing.cols_to_drop, \n",
    "    categorical_cols=config.preprocessing.categorical_cols,\n",
    "    claim_occured_col=config.preprocessing.claim_occured_col,\n",
    "    claim_reported_col=config.preprocessing.claim_reported_col,\n",
    "    types_mapping=config.preprocessing.types_mapping,\n",
    ")"
   ]
  },
  {
   "cell_type": "code",
   "execution_count": null,
   "metadata": {},
   "outputs": [],
   "source": [
    "fe.fit(claim_history_train)"
   ]
  },
  {
   "cell_type": "code",
   "execution_count": null,
   "metadata": {},
   "outputs": [],
   "source": [
    "claim_history_train = fe.transform(claim_history_train)"
   ]
  },
  {
   "cell_type": "code",
   "execution_count": null,
   "metadata": {},
   "outputs": [],
   "source": [
    "claim_history_train.dtypes"
   ]
  }
 ],
 "metadata": {
  "kernelspec": {
   "display_name": "fraud-detection",
   "language": "python",
   "name": "python3"
  },
  "language_info": {
   "codemirror_mode": {
    "name": "ipython",
    "version": 3
   },
   "file_extension": ".py",
   "mimetype": "text/x-python",
   "name": "python",
   "nbconvert_exporter": "python",
   "pygments_lexer": "ipython3",
   "version": "3.10.15"
  }
 },
 "nbformat": 4,
 "nbformat_minor": 2
}
