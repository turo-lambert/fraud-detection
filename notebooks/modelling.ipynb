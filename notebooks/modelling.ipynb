{
 "cells": [
  {
   "cell_type": "code",
   "execution_count": null,
   "metadata": {},
   "outputs": [],
   "source": [
    "%env MLFLOW_TRACKING_URI=sqlite:///../data/mlruns.db"
   ]
  },
  {
   "cell_type": "code",
   "execution_count": null,
   "metadata": {},
   "outputs": [],
   "source": [
    "import mlflow\n",
    "import sys\n",
    "sys.path.append('../')\n",
    "\n",
    "import pandas as pd\n",
    "\n",
    "from pathlib import Path\n",
    "\n",
    "from lib.data_processing import FeatureEngineer\n",
    "from lib.load_config import BaseConfig\n",
    "from lib.model import FraudDetectionModel"
   ]
  },
  {
   "cell_type": "code",
   "execution_count": null,
   "metadata": {},
   "outputs": [],
   "source": [
    "ROOT_DIR = Path().cwd().parent\n",
    "DATA_DIR = ROOT_DIR / 'data'"
   ]
  },
  {
   "cell_type": "code",
   "execution_count": null,
   "metadata": {},
   "outputs": [],
   "source": [
    "config = BaseConfig.load_config(ROOT_DIR / 'config' / 'config.yaml')\n",
    "fraud_cases = pd.read_csv(DATA_DIR / 'fraud_cases.csv')\n",
    "claim_history_train = pd.read_csv(DATA_DIR / 'FRISS_ClaimHistory_training.csv')\n",
    "claim_history_test = pd.read_csv(DATA_DIR / 'FRISS_ClaimHistory_test.csv')"
   ]
  },
  {
   "cell_type": "code",
   "execution_count": null,
   "metadata": {},
   "outputs": [],
   "source": [
    "def match_fraud_cases(training_data: pd.DataFrame, fraud_cases: pd.DataFrame) -> pd.DataFrame:\n",
    "    \"\"\"Match fraud cases to training data\n",
    "    \n",
    "    Args:\n",
    "        training_data: pd.DataFrame\n",
    "        fraud_cases: pd.DataFrame\n",
    "    \n",
    "    Returns:\n",
    "        training_data: pd.DataFrame\n",
    "    \"\"\"\n",
    "    training_data['fraud_label'] = training_data['claim_id_mapping'].astype(str).isin(fraud_cases['ClaimID'].astype(str).to_numpy()).astype(int)\n",
    "    return training_data"
   ]
  },
  {
   "cell_type": "code",
   "execution_count": null,
   "metadata": {},
   "outputs": [],
   "source": [
    "claim_history_train[\"claim_id_mapping\"] = claim_history_train[\"sys_claimid\"].astype(str).apply(lambda x: x.split(\"-\")[1])\n",
    "claim_history_train = match_fraud_cases(claim_history_train, fraud_cases)"
   ]
  },
  {
   "cell_type": "code",
   "execution_count": null,
   "metadata": {},
   "outputs": [],
   "source": [
    "fe = FeatureEngineer(\n",
    "    cols_to_drop=config.preprocessing.cols_to_drop, \n",
    "    categorical_cols=config.preprocessing.categorical_cols,\n",
    "    claim_occured_col=config.preprocessing.claim_occured_col,\n",
    "    claim_reported_col=config.preprocessing.claim_reported_col,\n",
    "    types_mapping=config.preprocessing.types_mapping,\n",
    ")"
   ]
  },
  {
   "cell_type": "code",
   "execution_count": null,
   "metadata": {},
   "outputs": [],
   "source": [
    "fe.fit(claim_history_train)"
   ]
  },
  {
   "cell_type": "code",
   "execution_count": null,
   "metadata": {},
   "outputs": [],
   "source": [
    "claim_history_train = fe.transform(claim_history_train)\n",
    "claim_history_test = fe.transform(claim_history_test)"
   ]
  },
  {
   "cell_type": "code",
   "execution_count": null,
   "metadata": {},
   "outputs": [],
   "source": [
    "claim_history_train[\"fraud_label\"].value_counts() / claim_history_train.shape[0]"
   ]
  },
  {
   "cell_type": "code",
   "execution_count": null,
   "metadata": {},
   "outputs": [],
   "source": [
    "claim_history_test[\"sys_fraud\"].value_counts() / claim_history_test.shape[0]"
   ]
  },
  {
   "cell_type": "code",
   "execution_count": null,
   "metadata": {},
   "outputs": [],
   "source": [
    "scale_pos_weight = (claim_history_train[\"fraud_label\"].value_counts()[0] / claim_history_train[\"fraud_label\"].value_counts()[1]) ** 0.5"
   ]
  },
  {
   "cell_type": "code",
   "execution_count": null,
   "metadata": {},
   "outputs": [],
   "source": [
    "mlflow.set_experiment(\"fraud_detection_experiment\")\n",
    "\n",
    "with mlflow.start_run():\n",
    "    run_id = mlflow.active_run().info.run_id\n",
    "\n",
    "    mlflow.log_params(dict(config))\n",
    "    mlflow.log_param(\"scale_pos_weight\", scale_pos_weight)\n",
    "\n",
    "    model = FraudDetectionModel(\n",
    "        scale_pos_weight=scale_pos_weight,\n",
    "        model_params=config.model.params,\n",
    "        hp_config=config.model.hp_tuning,\n",
    "    )\n",
    "\n",
    "    X_train = claim_history_train.drop(columns=[\"fraud_label\"])\n",
    "    y_train = claim_history_train[\"fraud_label\"]\n",
    "    X_test = claim_history_test.drop(columns=[\"sys_fraud\"])\n",
    "    y_test = claim_history_test[\"sys_fraud\"]\n",
    "\n",
    "    model.train(X=X_train, y=y_train)\n",
    "    evaluation = model.evaluate(X_test=X_test, y_test=y_test)\n",
    "\n",
    "    mlflow.log_metric(\"auc_roc\", evaluation[\"auc_roc\"])\n",
    "    mlflow.xgboost.log_model(model.model, \"model\")\n",
    "\n",
    "    fe_filepath = ROOT_DIR / 'models' / 'feature_engineering' / f'feature_engineer_{run_id}.pkl'\n",
    "    model_filepath = ROOT_DIR / 'models' / 'fraud_detection' / f'fraud_detection_model_{run_id}.pkl'\n",
    "    \n",
    "    fe.save_model(fe_filepath)\n",
    "    model.save_model(model_filepath)\n",
    "\n",
    "    mlflow.log_artifact(fe_filepath, artifact_path=\"feature_engineering\")\n",
    "    mlflow.log_artifact(model_filepath, artifact_path=\"fraud_detection\")\n"
   ]
  }
 ],
 "metadata": {
  "kernelspec": {
   "display_name": "fraud-detection",
   "language": "python",
   "name": "python3"
  },
  "language_info": {
   "codemirror_mode": {
    "name": "ipython",
    "version": 3
   },
   "file_extension": ".py",
   "mimetype": "text/x-python",
   "name": "python",
   "nbconvert_exporter": "python",
   "pygments_lexer": "ipython3",
   "version": "3.10.15"
  }
 },
 "nbformat": 4,
 "nbformat_minor": 2
}
